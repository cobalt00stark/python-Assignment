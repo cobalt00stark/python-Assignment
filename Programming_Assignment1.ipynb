{
 "cells": [
  {
   "cell_type": "code",
   "execution_count": null,
   "id": "9ae5f03a",
   "metadata": {},
   "outputs": [],
   "source": [
    "#Write a Python program to print \"Hello Python\"?"
   ]
  },
  {
   "cell_type": "code",
   "execution_count": null,
   "id": "02a67667",
   "metadata": {},
   "outputs": [],
   "source": [
    "print('\"Hello Python\"')"
   ]
  },
  {
   "cell_type": "code",
   "execution_count": null,
   "id": "7516e2ba",
   "metadata": {},
   "outputs": [],
   "source": [
    "#Write a Python program to do arithmetical operations addition and division.?"
   ]
  },
  {
   "cell_type": "code",
   "execution_count": null,
   "id": "07ff58b8",
   "metadata": {},
   "outputs": [],
   "source": [
    "a=1\n",
    "b=2\n",
    "addition=a+b\n",
    "division=float(a/b) # convert the output to float varibale \n",
    "print(\"Addition:\",addition)\n",
    "print(\"Division:\",division)"
   ]
  },
  {
   "cell_type": "code",
   "execution_count": null,
   "id": "c6e2ebff",
   "metadata": {},
   "outputs": [],
   "source": [
    "#Write a Python program to find the area of a triangle?"
   ]
  },
  {
   "cell_type": "code",
   "execution_count": null,
   "id": "9aff1100",
   "metadata": {},
   "outputs": [],
   "source": [
    "base=20\n",
    "height=35\n",
    "area=float(base*height)/2\n",
    "print(\"Area of the triangle with base\",base,\"and height\",height,\"is\",area)"
   ]
  },
  {
   "cell_type": "code",
   "execution_count": null,
   "id": "ab781460",
   "metadata": {},
   "outputs": [],
   "source": [
    "#Write a Python program to swap two variables?"
   ]
  },
  {
   "cell_type": "code",
   "execution_count": null,
   "id": "2a010575",
   "metadata": {},
   "outputs": [],
   "source": [
    "a=12\n",
    "b=14\n",
    "print(\"value of a before swap:\",a)\n",
    "print(\"value of b before swap:\",b)\n",
    "c=a  #c is a temporary variable and set pointer c to a's location\n",
    "a=b  # set pointer a to b's location\n",
    "b=c  #set pointer b to c's location \n",
    "print(\"value of a after swap:\",a)\n",
    "print(\"value of b after swap:\",b)"
   ]
  },
  {
   "cell_type": "code",
   "execution_count": null,
   "id": "afc10634",
   "metadata": {},
   "outputs": [],
   "source": [
    "#Write a Python program to generate a random number?"
   ]
  },
  {
   "cell_type": "code",
   "execution_count": null,
   "id": "bfae31ab",
   "metadata": {},
   "outputs": [],
   "source": [
    "import random\n",
    "a = random.randint(500,100000)\n",
    "print(a)"
   ]
  },
  {
   "cell_type": "code",
   "execution_count": null,
   "id": "038173bd",
   "metadata": {},
   "outputs": [],
   "source": []
  },
  {
   "cell_type": "code",
   "execution_count": null,
   "id": "fddc27b4",
   "metadata": {},
   "outputs": [],
   "source": []
  },
  {
   "cell_type": "code",
   "execution_count": null,
   "id": "f1be49a5",
   "metadata": {},
   "outputs": [],
   "source": []
  }
 ],
 "metadata": {
  "kernelspec": {
   "display_name": "Python 3 (ipykernel)",
   "language": "python",
   "name": "python3"
  },
  "language_info": {
   "codemirror_mode": {
    "name": "ipython",
    "version": 3
   },
   "file_extension": ".py",
   "mimetype": "text/x-python",
   "name": "python",
   "nbconvert_exporter": "python",
   "pygments_lexer": "ipython3",
   "version": "3.9.7"
  }
 },
 "nbformat": 4,
 "nbformat_minor": 5
}
